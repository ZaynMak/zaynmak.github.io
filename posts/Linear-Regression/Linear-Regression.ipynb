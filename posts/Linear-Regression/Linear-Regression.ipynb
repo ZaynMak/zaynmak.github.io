{
 "cells": [
  {
   "cell_type": "raw",
   "metadata": {},
   "source": [
    "---\n",
    "title: \"Blog Post 4: Linear Regression\"\n",
    "author: Zayn Makdessi\n",
    "date: '2023-05-22'\n",
    "description: \"Error with mostly Complete Penguins.\"\n",
    "format: html\n",
    "---"
   ]
  }
 ],
 "metadata": {
  "language_info": {
   "name": "python"
  },
  "orig_nbformat": 4
 },
 "nbformat": 4,
 "nbformat_minor": 2
}
