{
 "cells": [
  {
   "cell_type": "code",
   "execution_count": 1,
   "metadata": {},
   "outputs": [],
   "source": [
    "import pandas as pd\n",
    "\n",
    "train_url = \"https://raw.githubusercontent.com/middlebury-csci-0451/CSCI-0451/main/data/palmer-penguins/train.csv\"\n",
    "train = pd.read_csv(train_url)"
   ]
  },
  {
   "cell_type": "code",
   "execution_count": 2,
   "metadata": {},
   "outputs": [
    {
     "data": {
      "text/plain": [
       "<bound method NDFrame.head of     studyName  Sample Number                                    Species  \\\n",
       "0     PAL0708             27          Gentoo penguin (Pygoscelis papua)   \n",
       "1     PAL0708             22          Gentoo penguin (Pygoscelis papua)   \n",
       "2     PAL0910            124        Adelie Penguin (Pygoscelis adeliae)   \n",
       "3     PAL0910            146        Adelie Penguin (Pygoscelis adeliae)   \n",
       "4     PAL0708             24  Chinstrap penguin (Pygoscelis antarctica)   \n",
       "..        ...            ...                                        ...   \n",
       "270   PAL0708              7          Gentoo penguin (Pygoscelis papua)   \n",
       "271   PAL0910            121        Adelie Penguin (Pygoscelis adeliae)   \n",
       "272   PAL0910             84          Gentoo penguin (Pygoscelis papua)   \n",
       "273   PAL0708             29          Gentoo penguin (Pygoscelis papua)   \n",
       "274   PAL0708             13        Adelie Penguin (Pygoscelis adeliae)   \n",
       "\n",
       "     Region     Island               Stage Individual ID Clutch Completion  \\\n",
       "0    Anvers     Biscoe  Adult, 1 Egg Stage         N46A1               Yes   \n",
       "1    Anvers     Biscoe  Adult, 1 Egg Stage         N41A2               Yes   \n",
       "2    Anvers  Torgersen  Adult, 1 Egg Stage         N67A2               Yes   \n",
       "3    Anvers      Dream  Adult, 1 Egg Stage         N82A2               Yes   \n",
       "4    Anvers      Dream  Adult, 1 Egg Stage         N85A2                No   \n",
       "..      ...        ...                 ...           ...               ...   \n",
       "270  Anvers     Biscoe  Adult, 1 Egg Stage         N34A1               Yes   \n",
       "271  Anvers  Torgersen  Adult, 1 Egg Stage         N66A1                No   \n",
       "272  Anvers     Biscoe  Adult, 1 Egg Stage          N6A2               Yes   \n",
       "273  Anvers     Biscoe  Adult, 1 Egg Stage         N47A1               Yes   \n",
       "274  Anvers  Torgersen  Adult, 1 Egg Stage          N7A1               Yes   \n",
       "\n",
       "     Date Egg  Culmen Length (mm)  Culmen Depth (mm)  Flipper Length (mm)  \\\n",
       "0    11/29/07                44.5               14.3                216.0   \n",
       "1    11/27/07                45.1               14.5                215.0   \n",
       "2    11/16/09                41.4               18.5                202.0   \n",
       "3    11/16/09                39.0               18.7                185.0   \n",
       "4    11/28/07                50.6               19.4                193.0   \n",
       "..        ...                 ...                ...                  ...   \n",
       "270  11/27/07                45.4               14.6                211.0   \n",
       "271  11/17/09                36.2               17.2                187.0   \n",
       "272  11/15/09                50.0               15.9                224.0   \n",
       "273  11/29/07                48.2               14.3                210.0   \n",
       "274  11/15/07                41.1               17.6                182.0   \n",
       "\n",
       "     Body Mass (g)     Sex  Delta 15 N (o/oo)  Delta 13 C (o/oo)  \\\n",
       "0           4100.0     NaN            7.96621          -25.69327   \n",
       "1           5000.0  FEMALE            7.63220          -25.46569   \n",
       "2           3875.0    MALE            9.59462          -25.42621   \n",
       "3           3650.0    MALE            9.22033          -26.03442   \n",
       "4           3800.0    MALE            9.28153          -24.97134   \n",
       "..             ...     ...                ...                ...   \n",
       "270         4800.0  FEMALE            8.24515          -25.46782   \n",
       "271         3150.0  FEMALE            9.04296          -26.19444   \n",
       "272         5350.0    MALE            8.20042          -26.39677   \n",
       "273         4600.0  FEMALE            7.68870          -25.50811   \n",
       "274         3200.0  FEMALE                NaN                NaN   \n",
       "\n",
       "                                  Comments  \n",
       "0                                      NaN  \n",
       "1                                      NaN  \n",
       "2                                      NaN  \n",
       "3                                      NaN  \n",
       "4                                      NaN  \n",
       "..                                     ...  \n",
       "270                                    NaN  \n",
       "271  Nest never observed with full clutch.  \n",
       "272                                    NaN  \n",
       "273                                    NaN  \n",
       "274         Not enough blood for isotopes.  \n",
       "\n",
       "[275 rows x 17 columns]>"
      ]
     },
     "execution_count": 2,
     "metadata": {},
     "output_type": "execute_result"
    }
   ],
   "source": [
    "train.head"
   ]
  }
 ],
 "metadata": {
  "kernelspec": {
   "display_name": "Python 3.9.16 ('ml-0451')",
   "language": "python",
   "name": "python3"
  },
  "language_info": {
   "codemirror_mode": {
    "name": "ipython",
    "version": 3
   },
   "file_extension": ".py",
   "mimetype": "text/x-python",
   "name": "python",
   "nbconvert_exporter": "python",
   "pygments_lexer": "ipython3",
   "version": "3.9.16"
  },
  "orig_nbformat": 4,
  "vscode": {
   "interpreter": {
    "hash": "13b32043c39d15502ca460bca8d60811fc7c9151debef5355faef1d27b6240c8"
   }
  }
 },
 "nbformat": 4,
 "nbformat_minor": 2
}
