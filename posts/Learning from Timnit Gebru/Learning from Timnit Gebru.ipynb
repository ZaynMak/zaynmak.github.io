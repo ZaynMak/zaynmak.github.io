{
 "cells": [
  {
   "cell_type": "raw",
   "metadata": {},
   "source": [
    "---\n",
    "title: \"Blog Post 8: Learning from Timnit Gebru\"\n",
    "author: Zayn Makdessi\n",
    "date: '2023-04-19'\n",
    "description: \"Complete\"\n",
    "format: html\n",
    "---"
   ]
  },
  {
   "cell_type": "markdown",
   "metadata": {},
   "source": [
    "# Part 1\n",
    "On Monday April 24th 2023, Dr. Timnit Gebru is virtually visiting our class and giving a talk to the campus. Dr. Gebru is a computer scientist and researcher who has become a leading voice in the field of artificial intelligence and its ethical implications. She is widely recognized for her research on algorithmic bias, specifically the ways in which machine learning models can perpetuate and amplify social inequalities. Dr. Gebru's work has highlighted the need for greater transparency and accountability in the development and deployment of AI systems, as well as the importance of diversity and inclusion in the tech industry. Her contributions to the field have been recognized with numerous awards and honors, including being named one of Time Magazine's 100 most influential people in the world in 2021. Dr. Gebru's advocacy and activism have helped to raise awareness of the ethical concerns surrounding AI and have sparked important discussions about the role of technology in shaping society.\n",
    "\n",
    "Dr. Gebru discusses the limitations of computer vision in identifying emotions and the potential harms of using facial recognition technology, especially in policing. She argues that we need to consider the implications and potential biases of these technologies before they are implemented, and that we must remember that on both sides of data collection, there are human beings involved. Dr. Gebru then gives an example from her own work called \"Gender Shades,\" which was released in 2018. The study found a high disparity in error rates among lighter-skinned men and darker-skinned women on APIs with automated facial analysis tools. Specifically, the study analyzed gender classification tools that classify a person in a picture as male or female, and found that the results were not accurate, especially for people with darker skin. Dr. Gebru also discusses the challenges of using race as a category, as it is a social construct that is unstable across time and space. Dr. Gebru and her team had to create their own data set for the Gender Shades study to ensure that it was more balanced by skin type and gender for their analysis.\n",
    "\n",
    "A variety of issues with bias and lack of diversity in data sets used in computer vision are then discussed, as well as how this can result in problems such as inaccurate object recognition and biased algorithms. She mentions examples such as how crash tests for cars were based on prototypical male characteristics, resulting in cars that disproportionately harm women and children, and how clinical trials were not tested on women, resulting in drugs that disproportionately harmed them. Dr. Gebru notes that there has been more discussion on fairness, accountability, transparency, and ethics in computer vision recently, but that there is still a lack of understanding on how social structures and problems can affect these issues. Even with a drive to make data-driven systems fairer, such as by having more diverse data sets, there is often not enough consideration of how these systems are actually being used and how they affect the most vulnerable groups. Dr. Gebru argues that it is important to have structural representation and real representation, beyond just diversity of data sets, on ethics boards and panels.Dr. Gebru also discusses how some companies have attempted to address these issues, but have sometimes gone about it in a harmful or non-consensual way, such as scraping images from YouTube without consent.\n",
    "\n",
    "It's also worrying to hear that flawed facial recognition is being used as evidence in court, which could result in innocent people being wrongly convicted. The issue of automation bias is also important to consider, as it could lead to people blindly following the recommendations of these tools without questioning their accuracy or reliability. It's clear that more research and action is needed to ensure that facial recognition technology is used in a responsible and ethical manner, and that it doesn't lead to the infringement of people's civil liberties or the targeting of certain groups based on their race, ethnicity, or other characteristics. \n",
    "\n",
    "tl;dr There are many problems with computer vision and facial recognition technology, particularly in how it perpetuates systemic bias and marginalization of vulnerable groups, so we need engineers and scientists to understand the societal implications of their work, and that they should probably prioritize ethics, fairness, accountability, and transparency in their work, and give frameworks to think about these issues."
   ]
  },
  {
   "cell_type": "markdown",
   "metadata": {},
   "source": [
    "Given the pervasive use of computer vision technologies to marginalize vulnerable communities, what do you believe are the most urgent steps that engineers and scientists can take to ensure that their work promotes fairness and accountability, rather than perpetuating existing power imbalances?"
   ]
  },
  {
   "cell_type": "markdown",
   "metadata": {},
   "source": [
    "#  Part 2\n",
    "In her discussions, both in our class and during her public talk, Dr. Timnit Gebru delved into the complex issues surrounding artificial intelligence. While AI was the overarching topic, she placed a significant focus on the individuals and entities who wield control and gain influence as a result. Dr. Gebru meticulously traced the historical progression of the eugenics movement, revealing how it has been widely accepted by powerful individuals throughout time. She drew compelling connections between contemporary movements, such as effective altruism, and earlier eugenics movements that aimed to eliminate perceived negative traits from the human race. By demonstrating the lineage of these ideas, she alleged that the current movements are eugenicist and she condemend the influence they exert on influential figures within the tech industry and investment sphere.\n",
    "\n",
    "Moreover, Dr. Gebru explored how the pursuit of Artificial General Intelligence (AGI) has influenced the development of AI systems. She highlighted the inherent harm caused by the pursuit of AGI, particularly for vulnerable communities. The concept of AGI, with its aspiration for a single all-powerful machine, naturally leads to the centralization of power. This raises concerns regarding those who hold authority over the design and creation of such systems. Dr. Gebru argued that many of these individuals already possess flawed views about the future trajectory of humanity, further emphasizing the potential negative consequences of AGI.\n",
    "\n",
    "Another crucial aspect of Dr. Gebru's talks revolved around the flawed perception of AI in the media. She elaborated how the lack of comprehensive knowledge about AI functioning and the grand promises made by prominent companies significantly impact the funding landscape. As a result, investors often hesitate to support smaller organizations that are genuinely working on meaningful advancements in AI. This skewed preference for established corporations, even when they deliver subpar or non-existent products, perpetuates a cycle that stifles innovation and undermines the potential positive impact of AI development.\n",
    "\n",
    "I agree with Dr. Gebru's points since I also find it essential for people to become aware of the greed of influential figures within the tech industry who desire to further enrich thethemselves, rather than helping the broader population. Furthermore, it is crucial to acknowledge the significant influence these individuals wield over the future of technology. Hopefully, by doing so, a more nuanced understanding can be gained, highlighting the inherent risks and potential inequalities that may arise from the creation of powerful AI systems. I also believe that her arguments against AGI extend beyond the realm of artificial intelligence and can be applied to critique various other technological advancements.\n",
    "\n",
    "I found myself thinking a lot more about the ethics and potential harm/ personal gain in developping technologies, and will continue to do so moving forward. It does sadden me how big companies have the ability to develop technologies to help people but instead choose not to as it does not benefit those at the top. I will keep this in mind when I am working in the future and will try to make sure that I am not contributing to the problem. I will try to only work for companies who's values align with mine, and attempt to use my skills to help impact the trajectory of developping technology."
   ]
  }
 ],
 "metadata": {
  "kernelspec": {
   "display_name": "Python 3.8.11 64-bit ('3.8.11')",
   "language": "python",
   "name": "python3"
  },
  "language_info": {
   "name": "python",
   "version": "3.8.11"
  },
  "orig_nbformat": 4,
  "vscode": {
   "interpreter": {
    "hash": "bb72b2de8ba6122566281cdba76e24a805bd33bd16a12cc8fcf1a6467ec304f4"
   }
  }
 },
 "nbformat": 4,
 "nbformat_minor": 2
}
