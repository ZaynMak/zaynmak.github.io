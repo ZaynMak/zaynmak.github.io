{
 "cells": [
  {
   "cell_type": "raw",
   "metadata": {},
   "source": [
    "---\n",
    "title: \"Blog Post 5: Auditing Allocative Bias\"\n",
    "author: Zayn Makdessi\n",
    "date: '2023-05-23'\n",
    "description: \"Auditing Allocative Bias.\"\n",
    "format: html\n",
    "---"
   ]
  },
  {
   "cell_type": "markdown",
   "metadata": {},
   "source": [
    "https://zaynmak.github.io/posts/Allocative-Bias/bias.html"
   ]
  },
  {
   "cell_type": "code",
   "execution_count": 4,
   "metadata": {},
   "outputs": [],
   "source": [
    "from folktables import ACSDataSource, ACSEmployment, BasicProblem, adult_filter\n",
    "from sklearn.model_selection import train_test_split\n",
    "from matplotlib import pyplot as plt\n",
    "import numpy as np\n",
    "import pandas as pd\n",
    "import seaborn as sns\n",
    "from sklearn.linear_model import LogisticRegression\n",
    "from sklearn.pipeline import make_pipeline\n",
    "from sklearn.preprocessing import StandardScaler\n",
    "from sklearn.metrics import confusion_matrix\n",
    "from sklearn.ensemble import RandomForestClassifier\n",
    "\n",
    "np.random.seed(0)"
   ]
  },
  {
   "cell_type": "code",
   "execution_count": 5,
   "metadata": {},
   "outputs": [],
   "source": [
    "STATE = \"MA\"\n",
    "\n",
    "data_source = ACSDataSource(survey_year='2018', \n",
    "                            horizon='1-Year', \n",
    "                            survey='person')\n",
    "\n",
    "acs_data = data_source.get_data(states=[STATE], download=True)"
   ]
  },
  {
   "cell_type": "code",
   "execution_count": 6,
   "metadata": {},
   "outputs": [
    {
     "data": {
      "text/html": [
       "<div>\n",
       "<style scoped>\n",
       "    .dataframe tbody tr th:only-of-type {\n",
       "        vertical-align: middle;\n",
       "    }\n",
       "\n",
       "    .dataframe tbody tr th {\n",
       "        vertical-align: top;\n",
       "    }\n",
       "\n",
       "    .dataframe thead th {\n",
       "        text-align: right;\n",
       "    }\n",
       "</style>\n",
       "<table border=\"1\" class=\"dataframe\">\n",
       "  <thead>\n",
       "    <tr style=\"text-align: right;\">\n",
       "      <th></th>\n",
       "      <th>AGEP</th>\n",
       "      <th>SCHL</th>\n",
       "      <th>MAR</th>\n",
       "      <th>RELP</th>\n",
       "      <th>DIS</th>\n",
       "      <th>ESP</th>\n",
       "      <th>CIT</th>\n",
       "      <th>MIG</th>\n",
       "      <th>MIL</th>\n",
       "      <th>ANC</th>\n",
       "      <th>NATIVITY</th>\n",
       "      <th>DEAR</th>\n",
       "      <th>DEYE</th>\n",
       "      <th>DREM</th>\n",
       "      <th>SEX</th>\n",
       "      <th>RAC1P</th>\n",
       "      <th>ESR</th>\n",
       "    </tr>\n",
       "  </thead>\n",
       "  <tbody>\n",
       "    <tr>\n",
       "      <th>0</th>\n",
       "      <td>77</td>\n",
       "      <td>19.0</td>\n",
       "      <td>3</td>\n",
       "      <td>16</td>\n",
       "      <td>2</td>\n",
       "      <td>NaN</td>\n",
       "      <td>1</td>\n",
       "      <td>3.0</td>\n",
       "      <td>4.0</td>\n",
       "      <td>1</td>\n",
       "      <td>1</td>\n",
       "      <td>2</td>\n",
       "      <td>2</td>\n",
       "      <td>2.0</td>\n",
       "      <td>2</td>\n",
       "      <td>1</td>\n",
       "      <td>6.0</td>\n",
       "    </tr>\n",
       "    <tr>\n",
       "      <th>1</th>\n",
       "      <td>18</td>\n",
       "      <td>18.0</td>\n",
       "      <td>5</td>\n",
       "      <td>17</td>\n",
       "      <td>2</td>\n",
       "      <td>NaN</td>\n",
       "      <td>1</td>\n",
       "      <td>1.0</td>\n",
       "      <td>4.0</td>\n",
       "      <td>2</td>\n",
       "      <td>1</td>\n",
       "      <td>2</td>\n",
       "      <td>2</td>\n",
       "      <td>2.0</td>\n",
       "      <td>2</td>\n",
       "      <td>9</td>\n",
       "      <td>1.0</td>\n",
       "    </tr>\n",
       "    <tr>\n",
       "      <th>2</th>\n",
       "      <td>28</td>\n",
       "      <td>21.0</td>\n",
       "      <td>5</td>\n",
       "      <td>17</td>\n",
       "      <td>2</td>\n",
       "      <td>NaN</td>\n",
       "      <td>1</td>\n",
       "      <td>1.0</td>\n",
       "      <td>4.0</td>\n",
       "      <td>2</td>\n",
       "      <td>1</td>\n",
       "      <td>2</td>\n",
       "      <td>2</td>\n",
       "      <td>2.0</td>\n",
       "      <td>1</td>\n",
       "      <td>1</td>\n",
       "      <td>1.0</td>\n",
       "    </tr>\n",
       "    <tr>\n",
       "      <th>3</th>\n",
       "      <td>22</td>\n",
       "      <td>19.0</td>\n",
       "      <td>5</td>\n",
       "      <td>17</td>\n",
       "      <td>2</td>\n",
       "      <td>NaN</td>\n",
       "      <td>1</td>\n",
       "      <td>1.0</td>\n",
       "      <td>4.0</td>\n",
       "      <td>1</td>\n",
       "      <td>1</td>\n",
       "      <td>2</td>\n",
       "      <td>2</td>\n",
       "      <td>2.0</td>\n",
       "      <td>1</td>\n",
       "      <td>1</td>\n",
       "      <td>6.0</td>\n",
       "    </tr>\n",
       "    <tr>\n",
       "      <th>4</th>\n",
       "      <td>50</td>\n",
       "      <td>1.0</td>\n",
       "      <td>5</td>\n",
       "      <td>17</td>\n",
       "      <td>1</td>\n",
       "      <td>NaN</td>\n",
       "      <td>1</td>\n",
       "      <td>1.0</td>\n",
       "      <td>4.0</td>\n",
       "      <td>1</td>\n",
       "      <td>1</td>\n",
       "      <td>2</td>\n",
       "      <td>1</td>\n",
       "      <td>1.0</td>\n",
       "      <td>2</td>\n",
       "      <td>1</td>\n",
       "      <td>6.0</td>\n",
       "    </tr>\n",
       "  </tbody>\n",
       "</table>\n",
       "</div>"
      ],
      "text/plain": [
       "   AGEP  SCHL  MAR  RELP  DIS  ESP  CIT  MIG  MIL  ANC  NATIVITY  DEAR  DEYE  \\\n",
       "0    77  19.0    3    16    2  NaN    1  3.0  4.0    1         1     2     2   \n",
       "1    18  18.0    5    17    2  NaN    1  1.0  4.0    2         1     2     2   \n",
       "2    28  21.0    5    17    2  NaN    1  1.0  4.0    2         1     2     2   \n",
       "3    22  19.0    5    17    2  NaN    1  1.0  4.0    1         1     2     2   \n",
       "4    50   1.0    5    17    1  NaN    1  1.0  4.0    1         1     2     1   \n",
       "\n",
       "   DREM  SEX  RAC1P  ESR  \n",
       "0   2.0    2      1  6.0  \n",
       "1   2.0    2      9  1.0  \n",
       "2   2.0    1      1  1.0  \n",
       "3   2.0    1      1  6.0  \n",
       "4   1.0    2      1  6.0  "
      ]
     },
     "execution_count": 6,
     "metadata": {},
     "output_type": "execute_result"
    }
   ],
   "source": [
    "possible_features=['AGEP', 'SCHL', 'MAR', 'RELP', 'DIS', 'ESP', 'CIT', 'MIG', 'MIL', 'ANC', 'NATIVITY', 'DEAR', 'DEYE', 'DREM', 'SEX', 'RAC1P', 'ESR']\n",
    "acs_data[possible_features].head()"
   ]
  },
  {
   "cell_type": "code",
   "execution_count": 7,
   "metadata": {},
   "outputs": [],
   "source": [
    "features_to_use = [f for f in possible_features if f not in [\"ESR\", \"RAC1P\"]]\n",
    "\n",
    "EmploymentProblem = BasicProblem(\n",
    "    features=features_to_use,\n",
    "    target='ESR',\n",
    "    target_transform=lambda x: x == 1,\n",
    "    group='RAC1P',\n",
    "    preprocess=lambda x: x,\n",
    "    postprocess=lambda x: np.nan_to_num(x, -1),\n",
    ")\n",
    "\n",
    "features, label, group = EmploymentProblem.df_to_numpy(acs_data)"
   ]
  },
  {
   "cell_type": "code",
   "execution_count": 8,
   "metadata": {},
   "outputs": [],
   "source": [
    "X_train, X_test, y_train, y_test, group_train, group_test = train_test_split(\n",
    "    features, label, group, test_size=0.2, random_state=0)"
   ]
  },
  {
   "cell_type": "code",
   "execution_count": 9,
   "metadata": {},
   "outputs": [
    {
     "name": "stdout",
     "output_type": "stream",
     "text": [
      "Total accuracy: 0.7803521779425394\n",
      "The accuracy for white individuals: 0.7833114897335081\n",
      "The accuracy for black individuals: 0.7806122448979592\n"
     ]
    }
   ],
   "source": [
    "model = make_pipeline(StandardScaler(), LogisticRegression())\n",
    "model.fit(X_train, y_train)\n",
    "y_hat = model.predict(X_test)\n",
    "tot_acc = (y_hat == y_test).mean()\n",
    "white_acc = (y_hat == y_test)[group_test == 1].mean()\n",
    "black_acc = (y_hat == y_test)[group_test == 2].mean()\n",
    "print(f\"Total accuracy: {tot_acc}\")\n",
    "print(f\"The accuracy for white individuals: {white_acc}\")\n",
    "print(f\"The accuracy for black individuals: {black_acc}\")"
   ]
  },
  {
   "cell_type": "code",
   "execution_count": 10,
   "metadata": {},
   "outputs": [
    {
     "name": "stdout",
     "output_type": "stream",
     "text": [
      "Total number of individuals: 56104\n",
      "Proportion of individuals with target label equal to 1: 0.5056858691002424\n",
      "Number of individuals in each group: group\n",
      "1    45515\n",
      "2     3405\n",
      "3       66\n",
      "4        1\n",
      "5       24\n",
      "6     3778\n",
      "7       24\n",
      "8     1698\n",
      "9     1593\n",
      "Name: label, dtype: int64\n",
      "Proportion of individuals with target label equal to 1 in each group: group\n",
      "1    0.514556\n",
      "2    0.456681\n",
      "3    0.500000\n",
      "4    1.000000\n",
      "5    0.500000\n",
      "6    0.510058\n",
      "7    0.625000\n",
      "8    0.469376\n",
      "9    0.383553\n",
      "Name: label, dtype: float64\n"
     ]
    },
    {
     "data": {
      "text/plain": [
       "[Text(0, 0, 'White'), Text(1, 0, 'Black'), Text(2, 0, 'Asian')]"
      ]
     },
     "execution_count": 10,
     "metadata": {},
     "output_type": "execute_result"
    },
    {
     "data": {
      "image/png": "[encoded data removed]",
      "text/plain": [
       "<Figure size 640x480 with 1 Axes>"
      ]
     },
     "metadata": {},
     "output_type": "display_data"
    }
   ],
   "source": [
    "df = pd.DataFrame(X_train, columns = features_to_use)\n",
    "df[\"group\"] = group_train\n",
    "df[\"label\"] = y_train\n",
    "\n",
    "print(f\"Total number of individuals: {len(df)}\")\n",
    "print(f\"Proportion of individuals with target label equal to 1: {df['label'].mean()}\")\n",
    "print(f\"Number of individuals in each group: {df.groupby('group')['label'].count()}\")\n",
    "print(f\"Proportion of individuals with target label equal to 1 in each group: {df.groupby('group')['label'].mean()}\")\n",
    "\n",
    "# only looking at white, black, and asian individuals because of small sample size of other races\n",
    "race_list = [1, 2, 6]\n",
    "filtered = df.query(\"group in @race_list\")\n",
    "\n",
    "# group by race and sex then check employment\n",
    "grouped = filtered.groupby(['group', 'SEX'])['label'].mean().reset_index()\n",
    "\n",
    "races = [\"White\", \"Black\", \"Asian\",]\n",
    "\n",
    "plot = sns.barplot(data= grouped, x='group', y='label', hue='SEX')\n",
    "plot.set(title=\"Average Employment by Race and Sex\", xlabel=\"Race\", ylabel=\"Average Employment\")\n",
    "plot.set_xticklabels(races)\n"
   ]
  },
  {
   "cell_type": "markdown",
   "metadata": {},
   "source": [
    "We see that white, black, and asian women all have about the same average employment rate of 49%. Meanwhile white and asian men have an average employment rate of 54%, while black men have the lowest average employment rate among these 6 groups at 43%."
   ]
  },
  {
   "cell_type": "code",
   "execution_count": 11,
   "metadata": {},
   "outputs": [
    {
     "data": {
      "image/png": "[encoded data removed]",
      "text/plain": [
       "<Figure size 640x480 with 1 Axes>"
      ]
     },
     "metadata": {},
     "output_type": "display_data"
    }
   ],
   "source": [
    "accuracies = []\n",
    "\n",
    "for i in range(2, 20):\n",
    "    RF = RandomForestClassifier(n_estimators=100, max_depth=i, random_state=0)\n",
    "    RF.fit(X_train, y_train)\n",
    "    y_hat = RF.predict(X_test)\n",
    "    accuracies.append((y_hat == y_test).mean())\n",
    "\n",
    "plt.plot(range(2, 20), accuracies)"
   ]
  },
  {
   "cell_type": "markdown",
   "metadata": {},
   "source": [
    "Looking at the plot, it seems like the best choice for max depth is 14, because after that the accuracy does start to decrease. However it is only slightly more accurate than a max depth of 5, but will take longer to run."
   ]
  },
  {
   "cell_type": "code",
   "execution_count": null,
   "metadata": {},
   "outputs": [],
   "source": [
    "# Recaculate with max_depth = 16\n",
    "RF = RandomForestClassifier(n_estimators=100, max_depth=16, random_state=0)\n",
    "RF.fit(X_train, y_train)\n",
    "y_hat = RF.predict(X_test)"
   ]
  },
  {
   "cell_type": "code",
   "execution_count": 43,
   "metadata": {},
   "outputs": [
    {
     "name": "stdout",
     "output_type": "stream",
     "text": [
      "Total accuracy: 0.8294004420047052\n",
      "Positive predictive value: 0.7998197734294542\n",
      "False negative rate: 0.11884839029924833\n",
      "False positive rate: 0.22290711009174313\n"
     ]
    },
    {
     "data": {
      "text/html": [
       "<div>\n",
       "<style scoped>\n",
       "    .dataframe tbody tr th:only-of-type {\n",
       "        vertical-align: middle;\n",
       "    }\n",
       "\n",
       "    .dataframe tbody tr th {\n",
       "        vertical-align: top;\n",
       "    }\n",
       "\n",
       "    .dataframe thead th {\n",
       "        text-align: right;\n",
       "    }\n",
       "</style>\n",
       "<table border=\"1\" class=\"dataframe\">\n",
       "  <thead>\n",
       "    <tr style=\"text-align: right;\">\n",
       "      <th></th>\n",
       "      <th>Accuracy</th>\n",
       "      <th>PPV</th>\n",
       "      <th>FNR</th>\n",
       "      <th>FPR</th>\n",
       "      <th>Prediction Rate</th>\n",
       "    </tr>\n",
       "  </thead>\n",
       "  <tbody>\n",
       "    <tr>\n",
       "      <th>White</th>\n",
       "      <td>0.830756</td>\n",
       "      <td>0.806017</td>\n",
       "      <td>0.119630</td>\n",
       "      <td>0.220993</td>\n",
       "      <td>0.557623</td>\n",
       "    </tr>\n",
       "    <tr>\n",
       "      <th>Black</th>\n",
       "      <td>0.822704</td>\n",
       "      <td>0.792363</td>\n",
       "      <td>0.135417</td>\n",
       "      <td>0.217500</td>\n",
       "      <td>0.534439</td>\n",
       "    </tr>\n",
       "    <tr>\n",
       "      <th>American Indian</th>\n",
       "      <td>0.882353</td>\n",
       "      <td>0.750000</td>\n",
       "      <td>0.000000</td>\n",
       "      <td>0.181818</td>\n",
       "      <td>0.470588</td>\n",
       "    </tr>\n",
       "    <tr>\n",
       "      <th>American Indian and Alaska Native</th>\n",
       "      <td>0.666667</td>\n",
       "      <td>0.750000</td>\n",
       "      <td>0.571429</td>\n",
       "      <td>0.125000</td>\n",
       "      <td>0.266667</td>\n",
       "    </tr>\n",
       "    <tr>\n",
       "      <th>Asian</th>\n",
       "      <td>0.813928</td>\n",
       "      <td>0.758095</td>\n",
       "      <td>0.099548</td>\n",
       "      <td>0.266247</td>\n",
       "      <td>0.571273</td>\n",
       "    </tr>\n",
       "  </tbody>\n",
       "</table>\n",
       "</div>"
      ],
      "text/plain": [
       "                                   Accuracy       PPV       FNR       FPR  \\\n",
       "White                              0.830756  0.806017  0.119630  0.220993   \n",
       "Black                              0.822704  0.792363  0.135417  0.217500   \n",
       "American Indian                    0.882353  0.750000  0.000000  0.181818   \n",
       "American Indian and Alaska Native  0.666667  0.750000  0.571429  0.125000   \n",
       "Asian                              0.813928  0.758095  0.099548  0.266247   \n",
       "\n",
       "                                   Prediction Rate  \n",
       "White                                     0.557623  \n",
       "Black                                     0.534439  \n",
       "American Indian                           0.470588  \n",
       "American Indian and Alaska Native         0.266667  \n",
       "Asian                                     0.571273  "
      ]
     },
     "execution_count": 43,
     "metadata": {},
     "output_type": "execute_result"
    }
   ],
   "source": [
    "print(f\"Total accuracy: {(y_hat == y_test).mean()}\")\n",
    "\n",
    "# positive predictive value (PPV) of your model\n",
    "(tn, fp), (fn, tp) = confusion_matrix(y_test, y_hat)\n",
    "ppv = tp / (tp + fp)\n",
    "print(f\"Positive predictive value: {ppv}\")\n",
    "\n",
    "# false negative rate (FNR) of your model\n",
    "fnr = fn / (fn + tp)\n",
    "print(f\"False negative rate: {fnr}\")\n",
    "\n",
    "# false positive rate (FPR) of your model\n",
    "fpr = fp / (fp + tn)\n",
    "print(f\"False positive rate: {fpr}\")\n",
    "\n",
    "# in a table\n",
    "races = [\"White\", \"Black\", \"American Indian\", \"American Indian and Alaska Native\", \"Asian\", \"Native Hawaiian\"]\n",
    "columns = [\"Accuracy\", \"PPV\", \"FNR\", \"FPR\", \"Prediction Rate\"]\n",
    "datf = pd.DataFrame(columns=columns, index=races)\n",
    "results = [[], [], [], [], []]\n",
    "\n",
    "# accuracy of your model on each subgroup\n",
    "[results[0].append((y_hat == y_test)[group_test == i].mean()) for i in range(1, 8) if i != 4]\n",
    "\n",
    "# PPV of your model on each subgroup\n",
    "for i in range(1, 8):\n",
    "    if i != 4:\n",
    "        tn, fp, fn, tp = confusion_matrix(y_test[group_test == i], y_hat[group_test == i]).ravel()\n",
    "        ppv = tp / (tp + fp)\n",
    "        results[1].append(ppv)\n",
    "\n",
    "\n",
    "# FNR of your model on each subgroup\n",
    "for i in range(1, 8):\n",
    "    if i != 4:\n",
    "        tn, fp, fn, tp = confusion_matrix(y_test[group_test == i], y_hat[group_test == i]).ravel()\n",
    "        fnr = fn / (fn + tp)\n",
    "        results[2].append(fnr)\n",
    "\n",
    "# FPR of your model on each subgroup\n",
    "for i in range(1, 8):\n",
    "    if i != 4:\n",
    "        tn, fp, fn, tp = confusion_matrix(y_test[group_test == i], y_hat[group_test == i]).ravel()\n",
    "        fpr = fp / (fp + tn)\n",
    "        results[3].append(fpr)\n",
    "\n",
    "# predictions for each group\n",
    "for i in range(1,8):\n",
    "    if i != 4:\n",
    "        results[4].append(y_hat[group_test == i].mean())\n",
    "\n",
    "for i in range(5):\n",
    "    datf[columns[i]] = results[i]\n",
    "datf.head()\n"
   ]
  },
  {
   "cell_type": "markdown",
   "metadata": {},
   "source": [
    "There was only one observation for Alaska Native group, so it was removed from the results.\n",
    "\n",
    "#### Bias Measures\n",
    "To be calibrated, the score threshold should be the same for all samples  in the dataset. Since that is the case here, my model is calibrated.\n",
    "\n",
    "The three largest groups consisting of white, black, and asian individuals have similar FNR at ~11±2% and FPR at ~22% (with asian individuals at ~27%), however most of the other groups that have non-zero results have a much higher FNR and lower FPR. This means that there is some error rate imbalance in my model.\n",
    "\n",
    "Most of my predictions rates are within 10% except for American Indian and Alaska Native. This means that my model does not satisfy statistical parity."
   ]
  },
  {
   "cell_type": "markdown",
   "metadata": {},
   "source": [
    "#### Concluding Discussion\n",
    "The groups of people that could benefit from a system that is able to predict the label I predicted are people who are looking for a job, and companies that are looking to hire people. This model could be used to predict whether or not someone is employed, and if they are not, it could be used to predict whether or not they will be employed in the future. This could be used by companies to determine whether or not they should hire someone, and it could be used by people to determine whether or not they should apply for a job.\n",
    "\n",
    "Deploying this model for large-scale prediction in commercial or governmental settings could lead to a lot of people not getting jobs that they should have gotten, and a lot of people getting jobs that they should not have gotten. This could lead to a lot of people being unemployed that should not be, and a lot of people being employed that should not be. This could lead to a lot of people being unhappy, and a lot of companies being unhappy. This is exarcerbated for American Indian and Alaska Native who have a very high FNR (57%) and very low FPR (12%).\n",
    "\n",
    "My model definitely displays problematic bias. Although it is calibrated, it has error rate imbalance and does not satisfy statistical parity.\n",
    "\n",
    "Outside of the bias, I think that this model could be used to discriminate against people who are unemployed. I think that this could be addressed by making sure that the model is only used to predict whether or not someone will be employed in the future."
   ]
  }
 ],
 "metadata": {
  "kernelspec": {
   "display_name": "Python 3.9.16 ('ml-0451')",
   "language": "python",
   "name": "python3"
  },
  "language_info": {
   "codemirror_mode": {
    "name": "ipython",
    "version": 3
   },
   "file_extension": ".py",
   "mimetype": "text/x-python",
   "name": "python",
   "nbconvert_exporter": "python",
   "pygments_lexer": "ipython3",
   "version": "3.9.16"
  },
  "orig_nbformat": 4,
  "vscode": {
   "interpreter": {
    "hash": "13b32043c39d15502ca460bca8d60811fc7c9151debef5355faef1d27b6240c8"
   }
  }
 },
 "nbformat": 4,
 "nbformat_minor": 2
}
